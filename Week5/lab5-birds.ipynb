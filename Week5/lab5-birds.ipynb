{
 "cells": [
  {
   "cell_type": "markdown",
   "metadata": {},
   "source": [
    "# Lab 5: Species Distribution Modeling with Bagging \n",
    "Climate change and deforestation are accelerating ecosystem degradation, pushing animal species toward the brink of extinction. Understanding the distribution of animals and the factors that influence their ability to thrive in different environments is critical for conservation efforts. By studying these relationships, biological conservationists can develop informed strategies to protect endangered species and maintain biodiversity across diverse ecosystems.\n",
    "\n",
    "Species are defined by their behavioral, physiological, and ecological attributes, which shape their roles in ecosystems. In turn, ecosystems and their functions are deeply influenced by the species that inhabit them. This reciprocal relationship makes evaluating species' functional diversity and distributions essential for research in biogeography, community ecology, macroevolution, and conservation. Functional diversity is determined by traits such as diet, foraging strata, trophic level, activity cycle, litter size, generation length, habitat breadth, and body mass. These traits influence an animal’s ability to survive and adapt to different climates, playing a crucial role in ecosystem stability.\n",
    "\n",
    "In this lab, we will explore the connections between animal behaviors, functional traits, and species distributions across different climates."
   ]
  },
  {
   "cell_type": "code",
   "execution_count": 12,
   "metadata": {
    "tags": []
   },
   "outputs": [],
   "source": [
    "import pandas as pd\n",
    "import matplotlib.pyplot as plt\n",
    "import seaborn as sns\n",
    "import numpy as np\n",
    "from sklearn.ensemble import BaggingClassifier\n",
    "from sklearn.model_selection import train_test_split\n",
    "from sklearn.metrics import accuracy_score, roc_curve, auc\n",
    "from sklearn.preprocessing import StandardScaler, LabelEncoder\n",
    "from sklearn.inspection import permutation_importance\n",
    "from sklearn.utils import resample"
   ]
  },
  {
   "cell_type": "markdown",
   "metadata": {},
   "source": [
    "### Step 1: Standardizing column names\n",
    "\n",
    "The dataset contains several columns that describe different aspects of bird diets. These column names currently include spaces, colons (:), and special characters, which can make them difficult to work with in code.\n",
    "\n",
    "Load the dataset (BirdTraitData.csv) into a Pandas DataFrame.\n",
    "\n",
    "The 7 column names that start with \"Diet:\" should be renamed to simpler version starting with `Diet_` in a way that conforms with this list of key variables:\n",
    "\n",
    "`AdultBodyMass`, `DietBreadth`, `Diet_Invertebrates`, `Diet_Vertebrates`,`Diet_Fruits`, `Diet_Flowers`, `Diet_Seeds`, `Diet_Plants`, `Diet_Other`, `TrophicLevel`,`ActivityCycle`, `ForagingStratum`, `MigratoryStatus`,`IncubationTime`, `ClutchSize`, `EggLength`, `EggWidth`,`EggMass`, `NestingHabit`,`MaxLongevity`, `Subarid`\n",
    "\n",
    "Then select only that list of 21 key variables. **Print the head of your dataframe.** "
   ]
  },
  {
   "cell_type": "code",
   "execution_count": 22,
   "metadata": {
    "tags": []
   },
   "outputs": [
    {
     "name": "stdout",
     "output_type": "stream",
     "text": [
      "   AdultBodyMass  DietBreadth Diet_Invertebrates Diet_Vertebrates Diet_Fruits  \\\n",
      "0          138.5          2.0                yes              yes          no   \n",
      "1         1050.0          1.0                 no              yes          no   \n",
      "2          181.0          2.0                yes              yes          no   \n",
      "3          292.0          2.0                yes              yes          no   \n",
      "4          511.0          2.0                yes              yes          no   \n",
      "\n",
      "  Diet_Flowers Diet_Seeds Diet_Plants Diet_Other  TrophicLevel  ...  \\\n",
      "0           no         no          no         no           3.0  ...   \n",
      "1           no         no          no         no           3.0  ...   \n",
      "2           no         no          no         no           3.0  ...   \n",
      "3           no         no          no         no           3.0  ...   \n",
      "4           no         no          no         no           3.0  ...   \n",
      "\n",
      "   ForagingStratum  MigratoryStatus IncubationTime  ClutchSize  EggLength  \\\n",
      "0              3.0               no           31.0         3.0       3.85   \n",
      "1              3.0               no           39.5         2.5      58.50   \n",
      "2              3.0               no           35.0         2.5      38.35   \n",
      "3              3.0               no           31.0         1.5      43.70   \n",
      "4              4.0               no           35.5         2.0      54.50   \n",
      "\n",
      "   EggWidth  EggMass  NestingHabit MaxLongevity  Subarid  \n",
      "0       NaN      NaN      arboreal          NaN        1  \n",
      "1     46.95      NaN      arboreal          NaN        1  \n",
      "2     31.90      NaN      arboreal          NaN        1  \n",
      "3     35.20     29.1      arboreal          NaN        1  \n",
      "4     45.00      NaN      arboreal        144.0        1  \n",
      "\n",
      "[5 rows x 21 columns]\n"
     ]
    }
   ],
   "source": [
    "birds = pd.read_csv(\"BirdTraitData.csv\", encoding = \"unicode_escape\", na_values = \"-999\")\n",
    "\n",
    "birds.columns = birds.columns.str.replace(\"Diet: \", \"Diet_\")\n",
    "\n",
    "birds = birds.rename(columns={'Diet_invertebrates': 'Diet_Invertebrates', 'Diet_vertebrates': 'Diet_Vertebrates', 'Diet_fruits':'Diet_Fruits', 'Diet_flower/nectar/pollen/gums':'Diet_Flowers', 'Diet_seeds':'Diet_Seeds', 'Diet_seeds':'Diet_Seeds', 'Diet_other plant materials': 'Diet_Plants', 'Diet_scavenge; garbage; carrion; offal; carcasses':'Diet_Other'})\n",
    "\n",
    "birds = birds[[\"AdultBodyMass\", \"DietBreadth\", \"Diet_Invertebrates\", \"Diet_Vertebrates\",\"Diet_Fruits\", \"Diet_Flowers\", \"Diet_Seeds\", \"Diet_Plants\", \"Diet_Other\", \"TrophicLevel\",\"ActivityCycle\", \"ForagingStratum\", \"MigratoryStatus\",\"IncubationTime\", \"ClutchSize\", \"EggLength\", \"EggWidth\",\"EggMass\", \"NestingHabit\",\"MaxLongevity\", \"Subarid\"]]\n",
    "\n",
    "print(birds.head())"
   ]
  },
  {
   "cell_type": "code",
   "execution_count": 14,
   "metadata": {},
   "outputs": [
    {
     "data": {
      "text/plain": [
       "AdultBodyMass         0\n",
       "DietBreadth           0\n",
       "Diet_Invertebrates    0\n",
       "Diet_Vertebrates      0\n",
       "Diet_Fruits           0\n",
       "Diet_Flowers          0\n",
       "Diet_Seeds            0\n",
       "Diet_Plants           0\n",
       "Diet_Other            0\n",
       "TrophicLevel          0\n",
       "ActivityCycle         0\n",
       "ForagingStratum       0\n",
       "MigratoryStatus       0\n",
       "IncubationTime        0\n",
       "ClutchSize            0\n",
       "EggLength             0\n",
       "EggWidth              0\n",
       "EggMass               0\n",
       "NestingHabit          0\n",
       "MaxLongevity          0\n",
       "Subarid               0\n",
       "dtype: int64"
      ]
     },
     "execution_count": 14,
     "metadata": {},
     "output_type": "execute_result"
    }
   ],
   "source": [
    "# Impute\n",
    "birds_impute = birds.fillna(birds.mode().iloc[0])\n",
    "\n",
    "birds_impute.isna().sum()"
   ]
  },
  {
   "cell_type": "markdown",
   "metadata": {},
   "source": [
    "### Step 2: Encode categorical variables\n",
    "In our dataset, some columns contain categorical (non-numeric) data, such as species names or habitat types that need to be converted to numerical representations. Let's use label encoding to assign a unique number to each category in a column.\n",
    "\n",
    "Encode the data using this process:\n",
    "1. Find all categorical columns in df using `.select_dtypes(include=['object'])`\n",
    "2. Loop through each categorical column and apply `LabelEncoder()`\n",
    "3. Replace the original categorical columns with their encoded values.\n",
    "4. Print the head of your dataframe to ensure that labels were in fact encoded. "
   ]
  },
  {
   "cell_type": "code",
   "execution_count": 15,
   "metadata": {
    "tags": []
   },
   "outputs": [
    {
     "name": "stdout",
     "output_type": "stream",
     "text": [
      "   AdultBodyMass  DietBreadth  Diet_Invertebrates  Diet_Vertebrates  \\\n",
      "0          138.5          2.0                   1                 1   \n",
      "1         1050.0          1.0                   0                 1   \n",
      "2          181.0          2.0                   1                 1   \n",
      "3          292.0          2.0                   1                 1   \n",
      "4          511.0          2.0                   1                 1   \n",
      "\n",
      "   Diet_Fruits  Diet_Flowers  Diet_Seeds  Diet_Plants  Diet_Other  \\\n",
      "0            0             0           0            0           0   \n",
      "1            0             0           0            0           0   \n",
      "2            0             0           0            0           0   \n",
      "3            0             0           0            0           0   \n",
      "4            0             0           0            0           0   \n",
      "\n",
      "   TrophicLevel  ...  ForagingStratum  MigratoryStatus  IncubationTime  \\\n",
      "0           3.0  ...              3.0                0            31.0   \n",
      "1           3.0  ...              3.0                0            39.5   \n",
      "2           3.0  ...              3.0                0            35.0   \n",
      "3           3.0  ...              3.0                0            31.0   \n",
      "4           3.0  ...              4.0                0            35.5   \n",
      "\n",
      "   ClutchSize  EggLength  EggWidth  EggMass  NestingHabit  MaxLongevity  \\\n",
      "0         3.0       3.85     40.00     13.5             1         134.4   \n",
      "1         2.5      58.50     46.95     13.5             1         134.4   \n",
      "2         2.5      38.35     31.90     13.5             1         134.4   \n",
      "3         1.5      43.70     35.20     29.1             1         134.4   \n",
      "4         2.0      54.50     45.00     13.5             1         144.0   \n",
      "\n",
      "   Subarid  \n",
      "0        1  \n",
      "1        1  \n",
      "2        1  \n",
      "3        1  \n",
      "4        1  \n",
      "\n",
      "[5 rows x 21 columns]\n"
     ]
    }
   ],
   "source": [
    "# Select categorical columns\n",
    "categorical_cols = birds_impute.select_dtypes(include='object').columns\n",
    "\n",
    "# Initialize LabelEncoder\n",
    "le = LabelEncoder()\n",
    "\n",
    "# Loop through each categorical column and apply LabelEncoder\n",
    "for col in categorical_cols:\n",
    "    birds_impute[col] = le.fit_transform(birds_impute[col])\n",
    "\n",
    "print(birds_impute.head())"
   ]
  },
  {
   "cell_type": "markdown",
   "metadata": {},
   "source": [
    "### Step 3: Defining features, splitting data, and training a bagging classifier\n",
    "Our goal for this analysis is to predict whether a given bird species is present in Subarid climate zones. \n",
    "\n",
    "1. Drop the corresponding variable from the features (X) and define it as the target (y). Then perform the train-test split with 70/30 train/test and a random state of 808.\n",
    "\n",
    "2. Initialize a bagging classifier with 100 trees, `oob_score =True`, `bootstrap = True` and `random_state = 808`.  \n",
    "\n",
    "3. Train the model."
   ]
  },
  {
   "cell_type": "code",
   "execution_count": 16,
   "metadata": {
    "tags": []
   },
   "outputs": [
    {
     "data": {
      "text/html": [
       "<style>#sk-container-id-2 {color: black;}#sk-container-id-2 pre{padding: 0;}#sk-container-id-2 div.sk-toggleable {background-color: white;}#sk-container-id-2 label.sk-toggleable__label {cursor: pointer;display: block;width: 100%;margin-bottom: 0;padding: 0.3em;box-sizing: border-box;text-align: center;}#sk-container-id-2 label.sk-toggleable__label-arrow:before {content: \"▸\";float: left;margin-right: 0.25em;color: #696969;}#sk-container-id-2 label.sk-toggleable__label-arrow:hover:before {color: black;}#sk-container-id-2 div.sk-estimator:hover label.sk-toggleable__label-arrow:before {color: black;}#sk-container-id-2 div.sk-toggleable__content {max-height: 0;max-width: 0;overflow: hidden;text-align: left;background-color: #f0f8ff;}#sk-container-id-2 div.sk-toggleable__content pre {margin: 0.2em;color: black;border-radius: 0.25em;background-color: #f0f8ff;}#sk-container-id-2 input.sk-toggleable__control:checked~div.sk-toggleable__content {max-height: 200px;max-width: 100%;overflow: auto;}#sk-container-id-2 input.sk-toggleable__control:checked~label.sk-toggleable__label-arrow:before {content: \"▾\";}#sk-container-id-2 div.sk-estimator input.sk-toggleable__control:checked~label.sk-toggleable__label {background-color: #d4ebff;}#sk-container-id-2 div.sk-label input.sk-toggleable__control:checked~label.sk-toggleable__label {background-color: #d4ebff;}#sk-container-id-2 input.sk-hidden--visually {border: 0;clip: rect(1px 1px 1px 1px);clip: rect(1px, 1px, 1px, 1px);height: 1px;margin: -1px;overflow: hidden;padding: 0;position: absolute;width: 1px;}#sk-container-id-2 div.sk-estimator {font-family: monospace;background-color: #f0f8ff;border: 1px dotted black;border-radius: 0.25em;box-sizing: border-box;margin-bottom: 0.5em;}#sk-container-id-2 div.sk-estimator:hover {background-color: #d4ebff;}#sk-container-id-2 div.sk-parallel-item::after {content: \"\";width: 100%;border-bottom: 1px solid gray;flex-grow: 1;}#sk-container-id-2 div.sk-label:hover label.sk-toggleable__label {background-color: #d4ebff;}#sk-container-id-2 div.sk-serial::before {content: \"\";position: absolute;border-left: 1px solid gray;box-sizing: border-box;top: 0;bottom: 0;left: 50%;z-index: 0;}#sk-container-id-2 div.sk-serial {display: flex;flex-direction: column;align-items: center;background-color: white;padding-right: 0.2em;padding-left: 0.2em;position: relative;}#sk-container-id-2 div.sk-item {position: relative;z-index: 1;}#sk-container-id-2 div.sk-parallel {display: flex;align-items: stretch;justify-content: center;background-color: white;position: relative;}#sk-container-id-2 div.sk-item::before, #sk-container-id-2 div.sk-parallel-item::before {content: \"\";position: absolute;border-left: 1px solid gray;box-sizing: border-box;top: 0;bottom: 0;left: 50%;z-index: -1;}#sk-container-id-2 div.sk-parallel-item {display: flex;flex-direction: column;z-index: 1;position: relative;background-color: white;}#sk-container-id-2 div.sk-parallel-item:first-child::after {align-self: flex-end;width: 50%;}#sk-container-id-2 div.sk-parallel-item:last-child::after {align-self: flex-start;width: 50%;}#sk-container-id-2 div.sk-parallel-item:only-child::after {width: 0;}#sk-container-id-2 div.sk-dashed-wrapped {border: 1px dashed gray;margin: 0 0.4em 0.5em 0.4em;box-sizing: border-box;padding-bottom: 0.4em;background-color: white;}#sk-container-id-2 div.sk-label label {font-family: monospace;font-weight: bold;display: inline-block;line-height: 1.2em;}#sk-container-id-2 div.sk-label-container {text-align: center;}#sk-container-id-2 div.sk-container {/* jupyter's `normalize.less` sets `[hidden] { display: none; }` but bootstrap.min.css set `[hidden] { display: none !important; }` so we also need the `!important` here to be able to override the default hidden behavior on the sphinx rendered scikit-learn.org. See: https://github.com/scikit-learn/scikit-learn/issues/21755 */display: inline-block !important;position: relative;}#sk-container-id-2 div.sk-text-repr-fallback {display: none;}</style><div id=\"sk-container-id-2\" class=\"sk-top-container\"><div class=\"sk-text-repr-fallback\"><pre>BaggingClassifier(n_estimators=100, oob_score=True, random_state=808)</pre><b>In a Jupyter environment, please rerun this cell to show the HTML representation or trust the notebook. <br />On GitHub, the HTML representation is unable to render, please try loading this page with nbviewer.org.</b></div><div class=\"sk-container\" hidden><div class=\"sk-item\"><div class=\"sk-estimator sk-toggleable\"><input class=\"sk-toggleable__control sk-hidden--visually\" id=\"sk-estimator-id-2\" type=\"checkbox\" checked><label for=\"sk-estimator-id-2\" class=\"sk-toggleable__label sk-toggleable__label-arrow\">BaggingClassifier</label><div class=\"sk-toggleable__content\"><pre>BaggingClassifier(n_estimators=100, oob_score=True, random_state=808)</pre></div></div></div></div></div>"
      ],
      "text/plain": [
       "BaggingClassifier(n_estimators=100, oob_score=True, random_state=808)"
      ]
     },
     "execution_count": 16,
     "metadata": {},
     "output_type": "execute_result"
    }
   ],
   "source": [
    "# Drop subairid from features and define as target\n",
    "X = birds_impute.drop('Subarid', axis = 1)\n",
    "y = birds_impute['Subarid']\n",
    "\n",
    "# Train test split\n",
    "X_train, X_test, y_train, y_test = train_test_split(X, y, test_size = 0.3, random_state = 808)\n",
    "\n",
    "# Initialize bagging classifier\n",
    "bagging = BaggingClassifier(\n",
    "    n_estimators = 100,\n",
    "    oob_score = True,\n",
    "    bootstrap = True,\n",
    "    random_state = 808\n",
    ")\n",
    "\n",
    "# Train model\n",
    "bagging.fit(X_train, y_train)"
   ]
  },
  {
   "cell_type": "markdown",
   "metadata": {},
   "source": [
    "### Step 4: Make predictions and evaluate the model\n",
    "\n",
    "1. Generate predictions\n",
    "- Use the trained bagging model to predict values for the test set (`X_test`).\n",
    "\n",
    "2. Calculate the Out-of-Bag (OOB) Score\n",
    "- The OOB score is an internal validation score computed using samples not included in bootstrapped subsets.\n",
    "\n",
    "3. Compute model accuracy\n",
    "- Print the OOB score and the bagging accuracy score."
   ]
  },
  {
   "cell_type": "code",
   "execution_count": 17,
   "metadata": {
    "tags": []
   },
   "outputs": [
    {
     "name": "stdout",
     "output_type": "stream",
     "text": [
      "Out-of-Bag Score: 0.8579881656804734\n",
      "Bagging accuracy score: 0.9315068493150684\n"
     ]
    }
   ],
   "source": [
    "# Generate predictions\n",
    "y_pred = bagging.predict(X_test)\n",
    "\n",
    "#OOB score\n",
    "oob_score = bagging.oob_score_\n",
    "print(f\"Out-of-Bag Score: {oob_score}\")\n",
    "\n",
    "# Model Accuracy\n",
    "model_accuracy = accuracy_score(y_test, y_pred)\n",
    "print(f\"Bagging accuracy score: {model_accuracy}\")"
   ]
  },
  {
   "cell_type": "markdown",
   "metadata": {},
   "source": [
    "### Step 5: Calculate and plot ROC curve\n",
    "\n",
    "- Use `label=f\"Bagging (AUC = {roc_auc_bagging:.2f})\"` to include the AUC value in the plot."
   ]
  },
  {
   "cell_type": "code",
   "execution_count": 18,
   "metadata": {
    "tags": []
   },
   "outputs": [
    {
     "data": {
      "image/png": "[encoded data removed]",
      "text/plain": [
       "<Figure size 800x800 with 1 Axes>"
      ]
     },
     "metadata": {},
     "output_type": "display_data"
    }
   ],
   "source": [
    "# Get roc and auc\n",
    "y_pred_proba = bagging.predict_proba(X_test)[:, 1]\n",
    "fpr_bagging, tpr_bagging, _ = roc_curve(y_test, y_pred_proba)\n",
    "roc_auc_bagging = auc(fpr_bagging, tpr_bagging)\n",
    "\n",
    "plt.figure(figsize=(8, 8))\n",
    "plt.plot(fpr_bagging, tpr_bagging, label=f\"Bagging (AUC = {roc_auc_bagging:.2f})\")\n",
    "\n",
    "# Random classifier line\n",
    "plt.plot([0, 1], [0, 1], linestyle='--')\n",
    "\n",
    "# Add labels\n",
    "plt.xlabel('False Positive Rate')\n",
    "plt.ylabel('True Positive Rate')\n",
    "plt.title('Bagging Classifier ROC Curve')\n",
    "plt.legend()\n",
    "\n",
    "# Show the plot\n",
    "plt.show()"
   ]
  },
  {
   "cell_type": "markdown",
   "metadata": {},
   "source": [
    "Now how does the ROC curve look? How does this compare to our classification accuracy metric?  What might be going on? "
   ]
  },
  {
   "cell_type": "markdown",
   "metadata": {},
   "source": [
    "Our ROC curve does not show a good model performance, it is performing only slightly better than random guessing. However, our classification accuracy metric of 93% was much higher. This suggests there is a class imbalance."
   ]
  },
  {
   "cell_type": "markdown",
   "metadata": {},
   "source": [
    "### Step 6: Introducing upsampling\n",
    "\n",
    "The ROC curve indicates that our model is not performing well.  This is a common issue in imbalanced datasets, where one class significantly outnumbers the other. To improve our model’s ability to correctly classify both groups, we will upsample the minority class so that both classes have equal representation in the training set.\n",
    "\n",
    "**Perform upsampling to balance the dataset**\n",
    "1. Separate the majority and minority classes:\n",
    "- Identify which class (0,1) is underrepresented (the minority class) and which is overrepresented (the majority class). \n",
    "- Separate both the `X_train` data and `y_train` data into all majority class and all minority class sets. \n",
    "2. Apply upsampling:\n",
    "- Use `resample()` to create additional synthetic samples of the minority class *with replacement* until it is the same size as the majority class data. Use a random state of 808. \n",
    "3. Combine the balanced classes:\n",
    "Merge the original majority class with the newly upsampled minority class.\n",
    "4. Shuffle the resampled dataset:\n",
    "- Randomly shuffle the data to ensure the model does not learn any unintended patterns from the order of the data. Use a random state of 808 for shuffling both the resampled X and y training data. \n",
    "5. Print the value counts for the resampled y training data to ensure that the data is balanced. \n"
   ]
  },
  {
   "cell_type": "code",
   "execution_count": 19,
   "metadata": {
    "tags": []
   },
   "outputs": [
    {
     "name": "stdout",
     "output_type": "stream",
     "text": [
      "Subarid\n",
      "1    150\n",
      "0     19\n",
      "Name: count, dtype: int64\n",
      "Resampled y training data: Subarid\n",
      "0    150\n",
      "1    150\n",
      "Name: count, dtype: int64\n"
     ]
    }
   ],
   "source": [
    "\n",
    "# Separate majority and minority classes\n",
    "print(y_train.value_counts())\n",
    "X_minority = X_train[(y_train == 0)]\n",
    "y_minority = y_train[(y_train == 0)]\n",
    "X_majority = X_train[(y_train == 1)]\n",
    "y_majority = y_train[(y_train == 1)]\n",
    "\n",
    "# Upsample the minority class\n",
    "X_minority_upsampled, y_minority_upsampled = resample(X_minority, \n",
    "                                                     y_minority,\n",
    "                                                     replace=True,\n",
    "                                                     n_samples=len(X_majority),\n",
    "                                                     random_state=808)\n",
    "\n",
    "\n",
    "# Combine majority and upsampled minority class\n",
    "X_train_upsampled = pd.concat([X_majority, X_minority_upsampled])\n",
    "y_train_upsampled = pd.concat([y_majority, y_minority_upsampled])\n",
    "\n",
    "# Shuffle the dataset\n",
    "X_train_upsampled = X_train_upsampled.iloc[np.random.RandomState(808).permutation(len(X_train_upsampled))]\n",
    "y_train_upsampled = y_train_upsampled.iloc[np.random.RandomState(808).permutation(len(X_train_upsampled))]\n",
    "\n",
    "# Print value counts \n",
    "print(f\"Resampled y training data: {y_train_upsampled.value_counts()}\")"
   ]
  },
  {
   "cell_type": "markdown",
   "metadata": {},
   "source": [
    "### Step 7: Retrain and evaluate model using balanced data\n",
    "\n",
    "Now that we have addressed the class imbalance by upsampling the minority class, we will retrain the bagging classifier on the newly balanced dataset and evaluate its performance. This will help us determine whether handling class imbalance improves model accuracy and its ability to distinguish between classes. Create a bagging model using your balanced data. Use a random state of 808. Print the accuracy and and ROC Curve for this new model with balanced data. "
   ]
  },
  {
   "cell_type": "code",
   "execution_count": 20,
   "metadata": {
    "tags": []
   },
   "outputs": [
    {
     "name": "stdout",
     "output_type": "stream",
     "text": [
      "Out-of-Bag Score Balanced: 0.93\n",
      "Accuracy: 0.863013698630137\n"
     ]
    },
    {
     "data": {
      "image/png": "[encoded data removed]",
      "text/plain": [
       "<Figure size 800x800 with 1 Axes>"
      ]
     },
     "metadata": {},
     "output_type": "display_data"
    }
   ],
   "source": [
    "bagging_balanced = BaggingClassifier(\n",
    "    n_estimators = 100,\n",
    "    oob_score = True,\n",
    "    bootstrap = True,\n",
    "    random_state = 808\n",
    ")\n",
    "\n",
    "bagging_balanced.fit(X_train_upsampled, y_train_upsampled)\n",
    "\n",
    "y_pred_balanced = bagging_balanced.predict(X_test)\n",
    "y_pred_proba_balanced = bagging_balanced.predict_proba(X_test)[:,1]\n",
    "\n",
    "print(f\"Out-of-Bag Score Balanced: {bagging_balanced.oob_score_}\")\n",
    "print(f\"Accuracy: {accuracy_score(y_test, y_pred_balanced)}\")\n",
    "\n",
    "# ROC and AUC\n",
    "fpr_balanced, tpr_balanced, _ = roc_curve(y_test, y_pred_proba_balanced)\n",
    "roc_auc_balanced = auc(fpr_balanced, tpr_balanced)\n",
    "\n",
    "\n",
    "fpr_bagging_balanced, tpr_bagging_balanced, _ = roc_curve(y_test, y_pred_proba_balanced)\n",
    "roc_auc_bagging_balanced = auc(fpr_bagging_balanced, tpr_bagging_balanced)\n",
    "\n",
    "plt.figure(figsize=(8, 8))\n",
    "plt.plot(fpr_bagging_balanced, tpr_bagging_balanced, label=f\"Bagging (AUC = {roc_auc_bagging_balanced:.2f})\")\n",
    "\n",
    "# Random classifier line\n",
    "plt.plot([0, 1], [0, 1], linestyle='--')\n",
    "\n",
    "# Add labels\n",
    "plt.xlabel('False Positive Rate')\n",
    "plt.ylabel('True Positive Rate')\n",
    "plt.title('Bagging Classifier ROC Curve for Balanced Data')\n",
    "plt.legend()\n",
    "\n",
    "# Show the plot\n",
    "plt.show()"
   ]
  },
  {
   "cell_type": "markdown",
   "metadata": {},
   "source": [
    "How did this second model, trained on balanced data, do in comparison to the first on the accuracy and AUC metrics.  How should we interpret those results?  Did the upscaling prove useful?"
   ]
  },
  {
   "cell_type": "markdown",
   "metadata": {},
   "source": [
    "Our accuracy decreased and our AUC score increased. This suggests this model is more reliable and the upscaling proved useful. It shows that just looking at the accuracy can be misleading."
   ]
  },
  {
   "cell_type": "markdown",
   "metadata": {},
   "source": [
    "### Step 8: Analyzing feature importance with permutation importance\n",
    "\n",
    "Understanding which bird traits contribute the most to our model’s predictions is crucial for interpreting results. We covered in lecture how the results of ensemble methods are harder to interpret than a single decision tree.  But we do have some tools to do it.  In this step, we will compute permutation importance, which measures the impact of each trait by shuffling its values and observing the effect on model performance. This will help us identify which functional traits—such as diet, body mass, or habitat breadth—play the biggest role in predicting whether a species is found in a subarid environment.\n",
    "\n",
    "Use `permutation_importance()` to calculate the importance values.  You'll need to pass it the model, the feature and target test data, and an n_repeats value of 10."
   ]
  },
  {
   "cell_type": "code",
   "execution_count": 21,
   "metadata": {
    "tags": []
   },
   "outputs": [
    {
     "name": "stdout",
     "output_type": "stream",
     "text": [
      "Feature Importance Values:\n",
      "               Feature    Importance\n",
      "12     MigratoryStatus  1.917808e-02\n",
      "19        MaxLongevity  1.369863e-02\n",
      "11     ForagingStratum  1.095890e-02\n",
      "13      IncubationTime  9.589041e-03\n",
      "10       ActivityCycle  8.219178e-03\n",
      "7          Diet_Plants  6.849315e-03\n",
      "4          Diet_Fruits  5.479452e-03\n",
      "16            EggWidth  5.479452e-03\n",
      "18        NestingHabit  2.739726e-03\n",
      "9         TrophicLevel  1.369863e-03\n",
      "3     Diet_Vertebrates  2.220446e-17\n",
      "2   Diet_Invertebrates  0.000000e+00\n",
      "5         Diet_Flowers  0.000000e+00\n",
      "14          ClutchSize -1.369863e-03\n",
      "15           EggLength -1.369863e-03\n",
      "8           Diet_Other -1.369863e-03\n",
      "0        AdultBodyMass -2.739726e-03\n",
      "6           Diet_Seeds -5.479452e-03\n",
      "17             EggMass -9.589041e-03\n",
      "1          DietBreadth -1.095890e-02\n"
     ]
    }
   ],
   "source": [
    "perm_import = permutation_importance(bagging_balanced, \n",
    "                                       X_test, \n",
    "                                       y_test, \n",
    "                                       n_repeats=10,\n",
    "                                       random_state=808)\n",
    "\n",
    "feature_importance = pd.DataFrame({\n",
    "    'Feature': X_test.columns,\n",
    "    'Importance': perm_import.importances_mean})\n",
    "feature_importance = feature_importance.sort_values('Importance', ascending=False)\n",
    "\n",
    "\n",
    "print(f\"Feature Importance Values:\\n{feature_importance}\")\n"
   ]
  },
  {
   "cell_type": "markdown",
   "metadata": {},
   "source": [
    "What features are most important in our model of species distribution?"
   ]
  },
  {
   "cell_type": "markdown",
   "metadata": {},
   "source": [
    "The 3 most important features in order are migratory status, max longevity, and foraging stratum."
   ]
  },
  {
   "cell_type": "markdown",
   "metadata": {},
   "source": []
  }
 ],
 "metadata": {
  "kernelspec": {
   "display_name": "ml-env",
   "language": "python",
   "name": "python3"
  },
  "language_info": {
   "codemirror_mode": {
    "name": "ipython",
    "version": 3
   },
   "file_extension": ".py",
   "mimetype": "text/x-python",
   "name": "python",
   "nbconvert_exporter": "python",
   "pygments_lexer": "ipython3",
   "version": "3.10.16"
  }
 },
 "nbformat": 4,
 "nbformat_minor": 4
}
